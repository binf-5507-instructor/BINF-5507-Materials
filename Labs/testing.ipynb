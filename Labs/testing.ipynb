{
 "cells": [
  {
   "cell_type": "code",
   "execution_count": null,
   "id": "c84811ac",
   "metadata": {},
   "outputs": [],
   "source": [
    "# this is a testing notebook for the purposes of this demo"
   ]
  }
 ],
 "metadata": {
  "language_info": {
   "name": "python"
  }
 },
 "nbformat": 4,
 "nbformat_minor": 5
}
